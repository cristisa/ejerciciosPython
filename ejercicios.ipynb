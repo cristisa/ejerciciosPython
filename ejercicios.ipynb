{
  "nbformat": 4,
  "nbformat_minor": 0,
  "metadata": {
    "colab": {
      "name": "ejercicios.ipynb",
      "provenance": [],
      "collapsed_sections": [],
      "authorship_tag": "ABX9TyMmvY7hKm/xUQkAsjkPDyVU",
      "include_colab_link": true
    },
    "kernelspec": {
      "name": "python3",
      "display_name": "Python 3"
    },
    "language_info": {
      "name": "python"
    }
  },
  "cells": [
    {
      "cell_type": "markdown",
      "metadata": {
        "id": "view-in-github",
        "colab_type": "text"
      },
      "source": [
        "<a href=\"https://colab.research.google.com/github/cristisa/otro/blob/main/ejercicios.ipynb\" target=\"_parent\"><img src=\"https://colab.research.google.com/assets/colab-badge.svg\" alt=\"Open In Colab\"/></a>"
      ]
    },
    {
      "cell_type": "code",
      "execution_count": 2,
      "metadata": {
        "colab": {
          "base_uri": "https://localhost:8080/"
        },
        "id": "753LpGr1dEG8",
        "outputId": "b977b226-2dba-4869-cadb-2e5e34da5527"
      },
      "outputs": [
        {
          "output_type": "stream",
          "name": "stdout",
          "text": [
            "Ingrese valor: True\n",
            "es verdad\n"
          ]
        }
      ],
      "source": [
        "x = input(\"Ingrese valor: \")\n",
        "if x == 'True':\n",
        "    print(\"es verdad\")\n",
        "elif x == 'False':\n",
        "    print(\"es falso\")\n",
        "else:\n",
        "    print(\"no encontrado\")\n",
        "\n"
      ]
    },
    {
      "cell_type": "code",
      "source": [
        "x = input(\"Ingrese valor 1 o 2: \")\n",
        "if x == '1':\n",
        "    print(\"es verdad\")\n",
        "elif x == '2':\n",
        "    print(\"es falso\")\n",
        "else:\n",
        "    print(\"no encontrado\")\n"
      ],
      "metadata": {
        "colab": {
          "base_uri": "https://localhost:8080/"
        },
        "id": "PMMqii5th46X",
        "outputId": "8e4e2c60-ded3-4cad-a536-68a1e341b19e"
      },
      "execution_count": 4,
      "outputs": [
        {
          "output_type": "stream",
          "name": "stdout",
          "text": [
            "Ingrese valor 1 o 2: 1\n",
            "es verdad\n"
          ]
        }
      ]
    },
    {
      "cell_type": "code",
      "source": [
        "x = input(\"Ingrese valor 1 o 2: \")\n",
        "if x == '1' and x == '2':\n",
        "    print(\"es verdad\")\n",
        "else:\n",
        "    print(\"no encontrado\")"
      ],
      "metadata": {
        "colab": {
          "base_uri": "https://localhost:8080/"
        },
        "id": "VaUM9Jpvkocw",
        "outputId": "248e61d0-cf41-4bc0-8371-2e8579f8d3c8"
      },
      "execution_count": 7,
      "outputs": [
        {
          "output_type": "stream",
          "name": "stdout",
          "text": [
            "Ingrese valor 1 o 2: 2\n",
            "no encontrado\n"
          ]
        }
      ]
    },
    {
      "cell_type": "code",
      "source": [
        "i = input(\"Ingresa valor: \")\n",
        "while i=='2':\n",
        "  print(\"Pues si xD\")\n",
        "  break\n",
        "else:\n",
        "  print(\"Ya no\")\n"
      ],
      "metadata": {
        "colab": {
          "base_uri": "https://localhost:8080/"
        },
        "id": "LHEwUQagmsFw",
        "outputId": "bc560e16-9b1d-4dce-c4c3-5dcf34f5c959"
      },
      "execution_count": 15,
      "outputs": [
        {
          "output_type": "stream",
          "name": "stdout",
          "text": [
            "Ingresa valor: 2\n",
            "Pues si xD\n"
          ]
        }
      ]
    },
    {
      "cell_type": "code",
      "source": [
        ""
      ],
      "metadata": {
        "id": "bO3veMX1qL0m"
      },
      "execution_count": null,
      "outputs": []
    },
    {
      "cell_type": "code",
      "source": [
        "numero = 2\n",
        "while numero < 15:\n",
        "  numero*=2\n",
        "  print(numero)\n"
      ],
      "metadata": {
        "colab": {
          "base_uri": "https://localhost:8080/"
        },
        "id": "IBa7shVYqO7q",
        "outputId": "5abf6ecc-5c36-4cc5-90a0-ae3a35a0f74a"
      },
      "execution_count": 16,
      "outputs": [
        {
          "output_type": "stream",
          "name": "stdout",
          "text": [
            "4\n",
            "8\n",
            "16\n"
          ]
        }
      ]
    },
    {
      "cell_type": "code",
      "source": [
        "num = 2\n",
        "while num < 100:\n",
        "  num*=2\n",
        "  print(num)\n"
      ],
      "metadata": {
        "colab": {
          "base_uri": "https://localhost:8080/"
        },
        "id": "gGO5fFAwn9vp",
        "outputId": "4f04e875-d6aa-4d23-dcfa-946b046e51ca"
      },
      "execution_count": 8,
      "outputs": [
        {
          "output_type": "stream",
          "name": "stdout",
          "text": [
            "4\n",
            "8\n",
            "16\n",
            "32\n",
            "64\n",
            "128\n"
          ]
        }
      ]
    },
    {
      "cell_type": "code",
      "source": [
        "numero = int(input('Ingrese numero: '))\n",
        "while numero < 15:\n",
        "  numero*=2\n",
        "  print(numero)"
      ],
      "metadata": {
        "colab": {
          "base_uri": "https://localhost:8080/"
        },
        "id": "6KDWmBKyq1Y7",
        "outputId": "ff452f35-9ce5-4060-aede-8b44f5327f9c"
      },
      "execution_count": 18,
      "outputs": [
        {
          "output_type": "stream",
          "name": "stdout",
          "text": [
            "Ingrese numero: 14\n",
            "28\n"
          ]
        }
      ]
    },
    {
      "cell_type": "code",
      "source": [
        "nota = int(input('Ingresa valor entre 0 y 10: '))\n",
        "\n",
        "if nota<=10 and nota>8:\n",
        "  print('A')\n",
        "elif nota==8:\n",
        "  print('B')\n",
        "elif nota==7:\n",
        "  print('C')\n",
        "elif nota==6:\n",
        "  print('D')\n",
        "elif nota<6 and nota>=0:\n",
        "  print('F')\n",
        "else:\n",
        "  print('Valor incorrecto')\n",
        "\n",
        "\n"
      ],
      "metadata": {
        "colab": {
          "base_uri": "https://localhost:8080/"
        },
        "id": "WOLuzzFTrtTc",
        "outputId": "7aca8c63-f20f-4400-c42d-07c97a82f336"
      },
      "execution_count": 61,
      "outputs": [
        {
          "output_type": "stream",
          "name": "stdout",
          "text": [
            "Ingresa valor entre 0 y 10: 0\n",
            "F\n"
          ]
        }
      ]
    },
    {
      "cell_type": "code",
      "source": [
        "i = 0\n",
        "while (i<=5):\n",
        "  print(i)\n",
        "  i=i+1"
      ],
      "metadata": {
        "colab": {
          "base_uri": "https://localhost:8080/"
        },
        "id": "roqf0vMLvhHY",
        "outputId": "deb42d31-9c2d-48f0-d9ea-1dba03f888b3"
      },
      "execution_count": 59,
      "outputs": [
        {
          "output_type": "stream",
          "name": "stdout",
          "text": [
            "0\n",
            "1\n",
            "2\n",
            "3\n",
            "4\n",
            "5\n"
          ]
        }
      ]
    },
    {
      "cell_type": "code",
      "source": [
        "#. Iterar un rango de 0 a 10 e imprimir números divisibles entre 3\n",
        "x = range(10)\n",
        "for n in x:\n",
        "  if n%3==0:\n",
        "    print(n)"
      ],
      "metadata": {
        "colab": {
          "base_uri": "https://localhost:8080/"
        },
        "id": "zgbdgGy89Ngz",
        "outputId": "cfd59e28-89e1-4a10-a72c-a4251f41db7c"
      },
      "execution_count": 82,
      "outputs": [
        {
          "output_type": "stream",
          "name": "stdout",
          "text": [
            "0\n",
            "3\n",
            "6\n",
            "9\n"
          ]
        }
      ]
    },
    {
      "cell_type": "code",
      "source": [
        "# Crear un rango de numeros de 2 a 6, e imprimelos. Range(start, stop, step).\n",
        "# No incluye el ultimo numero de stop. \n",
        "x = range(2, 7, 1)\n",
        "for n in x:\n",
        "  print(n)"
      ],
      "metadata": {
        "colab": {
          "base_uri": "https://localhost:8080/"
        },
        "id": "6jUKpI789lF0",
        "outputId": "642395b1-4f7d-44e3-a67d-1c7c01f58764"
      },
      "execution_count": 83,
      "outputs": [
        {
          "output_type": "stream",
          "name": "stdout",
          "text": [
            "2\n",
            "3\n",
            "4\n",
            "5\n",
            "6\n"
          ]
        }
      ]
    },
    {
      "cell_type": "code",
      "source": [
        "#Crear un rango de 3 a 10, pero con incremento de 2 en 2, en lugar de 1 en 1.\n",
        "\n",
        "x = range(3, 11, 2)\n",
        "for n in x:\n",
        "  print(n)"
      ],
      "metadata": {
        "colab": {
          "base_uri": "https://localhost:8080/"
        },
        "id": "Z4XwZDuX-WQG",
        "outputId": "e3182cf9-ff58-46a9-cc74-129d0c967ec4"
      },
      "execution_count": 85,
      "outputs": [
        {
          "output_type": "stream",
          "name": "stdout",
          "text": [
            "3\n",
            "5\n",
            "7\n",
            "9\n"
          ]
        }
      ]
    },
    {
      "cell_type": "code",
      "source": [
        "#Dada la siguiente tupla, crear una lista que sólo incluya los números menores a 5.\n",
        "#thislist.append(\"orange\")\n",
        "\n",
        "tupla = list((13, 1, 8, 3, 2, 5, 8))\n",
        "nuevalista = []\n",
        "for n in tupla:\n",
        "  if n<5:\n",
        "    nuevalista.append(n)\n",
        "\n",
        "print(nuevalista)\n"
      ],
      "metadata": {
        "colab": {
          "base_uri": "https://localhost:8080/"
        },
        "id": "g80_OGWH-r-C",
        "outputId": "3dec77d5-f670-4d12-9f7a-f83dbd2357a8"
      },
      "execution_count": 80,
      "outputs": [
        {
          "output_type": "stream",
          "name": "stdout",
          "text": [
            "[1, 3, 2]\n"
          ]
        }
      ]
    },
    {
      "cell_type": "code",
      "source": [
        "cadena ='hola'\n",
        "for p in cadena:\n",
        "  print(p)\n",
        "else:\n",
        "  print('Se acabo')"
      ],
      "metadata": {
        "colab": {
          "base_uri": "https://localhost:8080/"
        },
        "id": "7J4HpS-0KqQI",
        "outputId": "85183f54-fb93-4859-f679-37faa43a2157"
      },
      "execution_count": 63,
      "outputs": [
        {
          "output_type": "stream",
          "name": "stdout",
          "text": [
            "h\n",
            "o\n",
            "l\n",
            "a\n",
            "Se acabo\n"
          ]
        }
      ]
    },
    {
      "cell_type": "code",
      "source": [
        "cadena = [1, 2, 3, 4]['manzana', 'pera', 'mandarina', 'patilla']\n",
        "\n",
        "for i in cadena:"
      ],
      "metadata": {
        "id": "NeGnkpMlK_0q"
      },
      "execution_count": null,
      "outputs": []
    },
    {
      "cell_type": "code",
      "source": [
        "for i in 'holanda':\n",
        "  if i == 'a':\n",
        "    print(f'letra encontrada: {i}')\n",
        "    break\n",
        "else:\n",
        "  print('Fin de ciclo')\n"
      ],
      "metadata": {
        "colab": {
          "base_uri": "https://localhost:8080/"
        },
        "id": "uR9p-pKeMSMT",
        "outputId": "b0ab3d07-13da-40c3-dbbf-6523242233eb"
      },
      "execution_count": 65,
      "outputs": [
        {
          "output_type": "stream",
          "name": "stdout",
          "text": [
            "letra encontrada: a\n"
          ]
        }
      ]
    },
    {
      "cell_type": "code",
      "source": [
        "for x in range(6):\n",
        "  if x==3:\n",
        "    break\n",
        "  print(x)\n",
        "else:\n",
        "  print(\"Termina aqui\")\n",
        "  "
      ],
      "metadata": {
        "colab": {
          "base_uri": "https://localhost:8080/"
        },
        "id": "7GXRyucieh3G",
        "outputId": "9e6470e3-10df-48a3-d998-7dede9646974"
      },
      "execution_count": 74,
      "outputs": [
        {
          "output_type": "stream",
          "name": "stdout",
          "text": [
            "0\n",
            "1\n",
            "2\n"
          ]
        }
      ]
    },
    {
      "cell_type": "code",
      "source": [
        "i = 0\n",
        "while i < 6:\n",
        "  i += 1\n",
        "  if i == 3:\n",
        "    continue\n",
        "  print(i)\n",
        "\n"
      ],
      "metadata": {
        "colab": {
          "base_uri": "https://localhost:8080/"
        },
        "id": "UMwzHOKifSgL",
        "outputId": "402dcf5c-ee71-4ed9-85df-58736718f011"
      },
      "execution_count": 77,
      "outputs": [
        {
          "output_type": "stream",
          "name": "stdout",
          "text": [
            "1\n",
            "2\n",
            "4\n",
            "5\n",
            "6\n"
          ]
        }
      ]
    },
    {
      "cell_type": "code",
      "source": [
        "planetas = {'Marte', 'Venus'}\n",
        "print(planetas)\n"
      ],
      "metadata": {
        "colab": {
          "base_uri": "https://localhost:8080/"
        },
        "id": "n2bIMyIynAXl",
        "outputId": "f0f10f1f-0dd2-4e73-9ea6-1de246165808"
      },
      "execution_count": 1,
      "outputs": [
        {
          "output_type": "stream",
          "name": "stdout",
          "text": [
            "{'Venus', 'Marte'}\n"
          ]
        }
      ]
    },
    {
      "cell_type": "code",
      "source": [
        "lista = list(planetas)\n",
        "print(lista)\n",
        "otros = ['Mercurio','Jupiter']\n",
        "lista.extend(otros)\n",
        "print(lista)"
      ],
      "metadata": {
        "colab": {
          "base_uri": "https://localhost:8080/"
        },
        "id": "RUBNXBK4Q9XN",
        "outputId": "9f116088-6a72-43c5-8226-0feffe40286d"
      },
      "execution_count": 5,
      "outputs": [
        {
          "output_type": "stream",
          "name": "stdout",
          "text": [
            "['Venus', 'Marte']\n",
            "['Venus', 'Marte', 'Mercurio', 'Jupiter']\n"
          ]
        }
      ]
    },
    {
      "cell_type": "code",
      "source": [
        "lista = [1, 2, 3, 4]\n",
        "lista.pop(1)\n",
        "print(lista)"
      ],
      "metadata": {
        "colab": {
          "base_uri": "https://localhost:8080/"
        },
        "id": "rtrdSR1TZhfa",
        "outputId": "139088b6-d999-4889-dab5-762862374a77"
      },
      "execution_count": 6,
      "outputs": [
        {
          "output_type": "stream",
          "name": "stdout",
          "text": [
            "[1, 3, 4]\n"
          ]
        }
      ]
    }
  ]
}