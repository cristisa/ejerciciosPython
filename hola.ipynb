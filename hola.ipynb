{
  "nbformat": 4,
  "nbformat_minor": 0,
  "metadata": {
    "colab": {
      "name": "hola.ipynb",
      "provenance": [],
      "collapsed_sections": [],
      "authorship_tag": "ABX9TyMP0qsWVi8c97/TItQfZcHi",
      "include_colab_link": true
    },
    "kernelspec": {
      "name": "python3",
      "display_name": "Python 3"
    },
    "language_info": {
      "name": "python"
    }
  },
  "cells": [
    {
      "cell_type": "markdown",
      "metadata": {
        "id": "view-in-github",
        "colab_type": "text"
      },
      "source": [
        "<a href=\"https://colab.research.google.com/github/cristisa/otro/blob/main/hola.ipynb\" target=\"_parent\"><img src=\"https://colab.research.google.com/assets/colab-badge.svg\" alt=\"Open In Colab\"/></a>"
      ]
    },
    {
      "cell_type": "markdown",
      "source": [
        "#este es un comentario"
      ],
      "metadata": {
        "id": "GYZk58rcktqy"
      }
    },
    {
      "cell_type": "markdown",
      "source": [
        ""
      ],
      "metadata": {
        "id": "n37Em_Pyk0yB"
      }
    },
    {
      "cell_type": "code",
      "execution_count": 2,
      "metadata": {
        "colab": {
          "base_uri": "https://localhost:8080/"
        },
        "id": "HrKRpTrvi4Ev",
        "outputId": "8ff53bf1-dd91-4754-8f9d-2ef0ca0a73d0"
      },
      "outputs": [
        {
          "output_type": "stream",
          "name": "stdout",
          "text": [
            "Hola mundo eres lindo!!!\n"
          ]
        }
      ],
      "source": [
        "print(\"Hola mundo eres lindo!!!\")"
      ]
    },
    {
      "cell_type": "code",
      "source": [
        "#este es un comentario\n"
      ],
      "metadata": {
        "id": "6HWYad5Kk2Yv"
      },
      "execution_count": 5,
      "outputs": []
    },
    {
      "cell_type": "markdown",
      "source": [
        "**Mostrar por pantalla la suma de 2 numeros**\n"
      ],
      "metadata": {
        "id": "DYUDBeMrlGQU"
      }
    },
    {
      "cell_type": "markdown",
      "source": [
        ""
      ],
      "metadata": {
        "id": "LPZZHfajlOrr"
      }
    },
    {
      "cell_type": "code",
      "source": [
        "numero1 = int(input(\"Ingrese el primer numero: \"))"
      ],
      "metadata": {
        "colab": {
          "base_uri": "https://localhost:8080/"
        },
        "id": "qDQpdtvhlnaH",
        "outputId": "5ca33c51-d460-4df7-8794-aad5d774526e"
      },
      "execution_count": 15,
      "outputs": [
        {
          "name": "stdout",
          "output_type": "stream",
          "text": [
            "Ingrese el primer numero: 3\n"
          ]
        }
      ]
    },
    {
      "cell_type": "code",
      "source": [
        "numero2 = float(input(\"Ingrese el segundo numero: \"))\n"
      ],
      "metadata": {
        "colab": {
          "base_uri": "https://localhost:8080/"
        },
        "id": "HbdiI2Pxl0LU",
        "outputId": "31af4da3-6d43-4bc0-86c9-d3f3f7447987"
      },
      "execution_count": 21,
      "outputs": [
        {
          "name": "stdout",
          "output_type": "stream",
          "text": [
            "Ingrese el segundo numero: 3.14\n"
          ]
        }
      ]
    },
    {
      "cell_type": "code",
      "source": [
        "total = numero1 + numero2\n"
      ],
      "metadata": {
        "id": "aNnMoSthl9oR"
      },
      "execution_count": 22,
      "outputs": []
    },
    {
      "cell_type": "code",
      "source": [
        "print(total)"
      ],
      "metadata": {
        "colab": {
          "base_uri": "https://localhost:8080/"
        },
        "id": "OvX8VvB7ufJJ",
        "outputId": "b6a0f51c-7478-4ed4-e6e2-96c98021d1d7"
      },
      "execution_count": 23,
      "outputs": [
        {
          "output_type": "stream",
          "name": "stdout",
          "text": [
            "6.140000000000001\n"
          ]
        }
      ]
    }
  ]
}